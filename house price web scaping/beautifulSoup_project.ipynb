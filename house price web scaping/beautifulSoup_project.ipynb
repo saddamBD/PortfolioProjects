{
  "nbformat": 4,
  "nbformat_minor": 0,
  "metadata": {
    "colab": {
      "name": "beautifulSoup_project.ipynb",
      "provenance": []
    },
    "kernelspec": {
      "name": "python3",
      "display_name": "Python 3"
    },
    "language_info": {
      "name": "python"
    }
  },
  "cells": [
    {
      "cell_type": "code",
      "execution_count": 19,
      "metadata": {
        "id": "hAoHY7flM5Wy"
      },
      "outputs": [],
      "source": [
        "from bs4 import BeautifulSoup\n",
        "import requests\n",
        "from csv import writer"
      ]
    },
    {
      "cell_type": "code",
      "source": [
        "url = \"https://www.pararius.com/apartments/amsterdam?ac=1\"\n",
        "page = requests.get(url)\n",
        "\n",
        "soup = BeautifulSoup(page.content,'lxml')"
      ],
      "metadata": {
        "id": "jzHyDAx0NAAY"
      },
      "execution_count": 9,
      "outputs": []
    },
    {
      "cell_type": "code",
      "source": [
        "#print(soup.prettify())\n",
        "lists = soup.find_all('section', class_ = 'listing-search-item')"
      ],
      "metadata": {
        "id": "QNnMjFn7cjt3"
      },
      "execution_count": 12,
      "outputs": []
    },
    {
      "cell_type": "code",
      "source": [
        "with open('housing.csv', 'w', encoding='utf8', newline='') as f:\n",
        "  thewriter = writer(f)\n",
        "  header = ['Title','Location','Price','Area']\n",
        "  thewriter.writerow(header)\n",
        "  for list in lists:\n",
        "    title = list.find('a',class_ = \"listing-search-item__link listing-search-item__link--title\").text.replace('\\n','')\n",
        "    location = list.find('div',class_ = \"listing-search-item__location\").text.replace('\\n','')\n",
        "    price = list.find('div',class_ = \"listing-search-item__price\").text.replace('\\n','')\n",
        "    area = list.find('li',class_ = \"illustrated-features__item illustrated-features__item--surface-area\").text.replace('\\n','')\n",
        "    info = [title,location,price,area]\n",
        "    thewriter.writerow(info)\n",
        "    print(info)\n",
        "\n",
        "  \n",
        "\n",
        "\n",
        "  \n"
      ],
      "metadata": {
        "colab": {
          "base_uri": "https://localhost:8080/"
        },
        "id": "1RYLsVIKdnzV",
        "outputId": "25dd695b-cb56-4a62-9c7b-5a2a64049ec9"
      },
      "execution_count": 23,
      "outputs": [
        {
          "output_type": "stream",
          "name": "stdout",
          "text": [
            "['Apartment Sarphatipark', '            1073 CR Amsterdam (Oude Pijp)        ', '                €1,995 per month            ', '78 m²']\n",
            "['Apartment Kinkerstraat', '            1053 GA Amsterdam (Kinkerbuurt)        ', '                €1,400 per month            ', '50 m²']\n",
            "['Apartment Marius Bauerstraat', '            1062 AL Amsterdam (Overtoomse Veld)        ', '                €1,400 per month            ', '48 m²']\n",
            "['Apartment Bezaanjachtplein', '            1034 DA Amsterdam (Banne Buiksloot)        ', '                €1,500 per month            ', '39 m²']\n",
            "['Apartment Welnastraat 255', '            1096 GJ Amsterdam (Omval/Overamstel)        ', '                €1,350 per month            ', '28 m²']\n",
            "['Apartment Tolstraat', '            1074 VL Amsterdam (Zuid Pijp)        ', '                €1,700 per month            ', '60 m²']\n",
            "['Apartment Eerste Weteringdwarsstraat', '            1017 TP Amsterdam (De Weteringschans)        ', '                €2,150 per month            ', '65 m²']\n",
            "['Apartment Balistraat', '            1094 JE Amsterdam (Indische Buurt West)        ', '                €1,650 per month            ', '60 m²']\n",
            "['Apartment Vossiusstraat', '            1071 AC Amsterdam (Museumkwartier)        ', '                €1,850 per month            ', '75 m²']\n",
            "['Apartment Abbenesstraat', '            1059 TB Amsterdam (Hoofddorppleinbuurt)        ', '                €2,150 per month            ', '80 m²']\n",
            "['Apartment Kuinderstraat', '            1079 DJ Amsterdam (Rijnbuurt)        ', '                €1,825 per month            ', '70 m²']\n",
            "['Apartment Bilderdijkkade 56 M', '            1053 VN Amsterdam (Kinkerbuurt)        ', '                €2,750 per month            ', '102 m²']\n",
            "['House Jasonstraat', '            1076 KW Amsterdam (Stadionbuurt)        ', '                €1,600 per month            ', '70 m²']\n",
            "['Apartment Wolbrantskerkweg', '            1069 CL Amsterdam (Osdorp-Midden)        ', '                €2,100 per month            ', '96 m²']\n",
            "['Apartment Bernard Shawsingel', '            1102 VD Amsterdam (Bijlmer Centrum (D,F,H))        ', '                €1,350 per month            ', '57 m²']\n",
            "['Apartment Van Tuyll van Serooskerkenweg 152 1', '            1076 JV Amsterdam (Stadionbuurt)        ', '                €1,750 per month            ', '75 m²']\n",
            "['Apartment Stadionweg 300 I', '            1076 PJ Amsterdam (Stadionbuurt)        ', '                €1,750 per month            ', '60 m²']\n",
            "['Apartment Dufaystraat 15 C', '            1075 GS Amsterdam (Willemspark)        ', '                €3,150 per month            ', '118 m²']\n",
            "['Apartment Singel 106 3', '            1015 AD Amsterdam (Grachtengordel-West)        ', '                €1,700 per month            ', '50 m²']\n",
            "['Apartment Reguliersgracht 107 E', '            1017 LP Amsterdam (De Weteringschans)        ', '                €2,600 per month            ', '90 m²']\n",
            "['Apartment Granidastraat', '            1055 HN Amsterdam (Landlust)        ', '                €1,600 per month            ', '50 m²']\n",
            "['Apartment Het Breed', '            1025 JG Amsterdam (Buikslotermeer)        ', '                €1,650 per month            ', '112 m²']\n",
            "['Apartment Van Ostadestraat 253 D', '            1073 TN Amsterdam (Nieuwe Pijp)        ', '                €1,650 per month            ', '47 m²']\n",
            "['Apartment Beysterveld', '            1083 KA Amsterdam (Buitenveldert-Oost)        ', '                €3,300 per month            ', '200 m²']\n",
            "['Apartment Bos en Lommerweg', '            1055 EB Amsterdam (Landlust)        ', '                €1,300 per month            ', '42 m²']\n",
            "['Apartment Prinseneiland 575', '            1013 EC Amsterdam (Haarlemmerbuurt)        ', '                €2,300 per month            ', '81 m²']\n",
            "['Apartment Nieuwe Leliestraat 180 1', '            1015 HG Amsterdam (Jordaan)        ', '                €1,750 per month            ', '50 m²']\n",
            "['Apartment Conny Stuartstraat 13', '            1031 HZ Amsterdam (Noordelijke IJ-oevers West)        ', '                €1,750 per month            ', '60 m²']\n",
            "['House Ferdinant Spitstraat', '            1069 KB Amsterdam (Osdorp-Midden)        ', '                €2,200 per month            ', '150 m²']\n",
            "['Apartment Van Heenvlietlaan', '            1083 CR Amsterdam (Buitenveldert-Oost)        ', '                €1,650 per month            ', '78 m²']\n",
            "['Apartment Hoofdweg', '            1056 DE Amsterdam (Erasmuspark)        ', '                €2,400 per month            ', '104 m²']\n"
          ]
        }
      ]
    },
    {
      "cell_type": "code",
      "source": [
        ""
      ],
      "metadata": {
        "id": "_bIK-WHJhf80"
      },
      "execution_count": null,
      "outputs": []
    }
  ]
}